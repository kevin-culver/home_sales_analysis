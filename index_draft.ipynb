{
 "cells": [
  {
   "cell_type": "markdown",
   "metadata": {},
   "source": [
    "# King County Home Sales Analysis"
   ]
  },
  {
   "cell_type": "markdown",
   "metadata": {
    "heading_collapsed": true
   },
   "source": [
    "## Overview"
   ]
  },
  {
   "cell_type": "markdown",
   "metadata": {
    "hidden": true
   },
   "source": [
    "The project analyzes data from home sales in King County in order to gain insights into what characteristics of a home contribute to higher sales prices. The insights gained through this analysis are aimed towards helping real estate companies better predict and gage value of the homes they are selling. "
   ]
  },
  {
   "cell_type": "markdown",
   "metadata": {
    "heading_collapsed": true
   },
   "source": [
    "## Business Problem"
   ]
  },
  {
   "cell_type": "markdown",
   "metadata": {
    "hidden": true
   },
   "source": [
    "As a real estate company it is important to have accurate prices that benefit both sellers and buyers. By having accurate prices, a real estate company can establish a reputation for transparency and trustworthiness in the community. Moreover, accurate prices, over the long run, will create greater profit for they will equalize undervalued and overvalued homes to create a more balanced profit margin.  "
   ]
  },
  {
   "cell_type": "markdown",
   "metadata": {},
   "source": [
    "## Data Understanding"
   ]
  },
  {
   "cell_type": "markdown",
   "metadata": {},
   "source": [
    "The dataset contains 21,597 entries of home sales in King County. The dataset recorded home sales between May 2014 and 2015. The original dataset contained 21 columns, each describing an attribute of the home that was sold (e.g., number of bedrooms, total square feet, year built, overall condition, etc.).  "
   ]
  },
  {
   "cell_type": "code",
   "execution_count": 1,
   "metadata": {},
   "outputs": [],
   "source": [
    "#importing relevant modules\n",
    "import warnings\n",
    "warnings.filterwarnings('ignore')\n",
    "\n",
    "import pandas as pd\n",
    "import numpy as np\n",
    "import matplotlib.pyplot as plt\n",
    "import seaborn as sns\n",
    "%matplotlib inline\n",
    "\n",
    "import scipy.stats as stats\n",
    "import statsmodels.api as sm\n",
    "from statsmodels.formula.api import ols\n",
    "from sklearn.linear_model import LinearRegression\n",
    "from sklearn.model_selection import train_test_split\n",
    "from sklearn.feature_selection import RFE\n"
   ]
  },
  {
   "cell_type": "code",
   "execution_count": 2,
   "metadata": {},
   "outputs": [
    {
     "data": {
      "text/html": [
       "<div>\n",
       "<style scoped>\n",
       "    .dataframe tbody tr th:only-of-type {\n",
       "        vertical-align: middle;\n",
       "    }\n",
       "\n",
       "    .dataframe tbody tr th {\n",
       "        vertical-align: top;\n",
       "    }\n",
       "\n",
       "    .dataframe thead th {\n",
       "        text-align: right;\n",
       "    }\n",
       "</style>\n",
       "<table border=\"1\" class=\"dataframe\">\n",
       "  <thead>\n",
       "    <tr style=\"text-align: right;\">\n",
       "      <th></th>\n",
       "      <th>id</th>\n",
       "      <th>date</th>\n",
       "      <th>price</th>\n",
       "      <th>bedrooms</th>\n",
       "      <th>bathrooms</th>\n",
       "      <th>sqft_living</th>\n",
       "      <th>sqft_lot</th>\n",
       "      <th>floors</th>\n",
       "      <th>waterfront</th>\n",
       "      <th>view</th>\n",
       "      <th>...</th>\n",
       "      <th>grade</th>\n",
       "      <th>sqft_above</th>\n",
       "      <th>sqft_basement</th>\n",
       "      <th>yr_built</th>\n",
       "      <th>yr_renovated</th>\n",
       "      <th>zipcode</th>\n",
       "      <th>lat</th>\n",
       "      <th>long</th>\n",
       "      <th>sqft_living15</th>\n",
       "      <th>sqft_lot15</th>\n",
       "    </tr>\n",
       "  </thead>\n",
       "  <tbody>\n",
       "    <tr>\n",
       "      <th>0</th>\n",
       "      <td>7129300520</td>\n",
       "      <td>10/13/2014</td>\n",
       "      <td>221900.0</td>\n",
       "      <td>3</td>\n",
       "      <td>1.00</td>\n",
       "      <td>1180</td>\n",
       "      <td>5650</td>\n",
       "      <td>1.0</td>\n",
       "      <td>NaN</td>\n",
       "      <td>NONE</td>\n",
       "      <td>...</td>\n",
       "      <td>7 Average</td>\n",
       "      <td>1180</td>\n",
       "      <td>0.0</td>\n",
       "      <td>1955</td>\n",
       "      <td>0.0</td>\n",
       "      <td>98178</td>\n",
       "      <td>47.5112</td>\n",
       "      <td>-122.257</td>\n",
       "      <td>1340</td>\n",
       "      <td>5650</td>\n",
       "    </tr>\n",
       "    <tr>\n",
       "      <th>1</th>\n",
       "      <td>6414100192</td>\n",
       "      <td>12/9/2014</td>\n",
       "      <td>538000.0</td>\n",
       "      <td>3</td>\n",
       "      <td>2.25</td>\n",
       "      <td>2570</td>\n",
       "      <td>7242</td>\n",
       "      <td>2.0</td>\n",
       "      <td>NO</td>\n",
       "      <td>NONE</td>\n",
       "      <td>...</td>\n",
       "      <td>7 Average</td>\n",
       "      <td>2170</td>\n",
       "      <td>400.0</td>\n",
       "      <td>1951</td>\n",
       "      <td>1991.0</td>\n",
       "      <td>98125</td>\n",
       "      <td>47.7210</td>\n",
       "      <td>-122.319</td>\n",
       "      <td>1690</td>\n",
       "      <td>7639</td>\n",
       "    </tr>\n",
       "    <tr>\n",
       "      <th>2</th>\n",
       "      <td>5631500400</td>\n",
       "      <td>2/25/2015</td>\n",
       "      <td>180000.0</td>\n",
       "      <td>2</td>\n",
       "      <td>1.00</td>\n",
       "      <td>770</td>\n",
       "      <td>10000</td>\n",
       "      <td>1.0</td>\n",
       "      <td>NO</td>\n",
       "      <td>NONE</td>\n",
       "      <td>...</td>\n",
       "      <td>6 Low Average</td>\n",
       "      <td>770</td>\n",
       "      <td>0.0</td>\n",
       "      <td>1933</td>\n",
       "      <td>NaN</td>\n",
       "      <td>98028</td>\n",
       "      <td>47.7379</td>\n",
       "      <td>-122.233</td>\n",
       "      <td>2720</td>\n",
       "      <td>8062</td>\n",
       "    </tr>\n",
       "    <tr>\n",
       "      <th>3</th>\n",
       "      <td>2487200875</td>\n",
       "      <td>12/9/2014</td>\n",
       "      <td>604000.0</td>\n",
       "      <td>4</td>\n",
       "      <td>3.00</td>\n",
       "      <td>1960</td>\n",
       "      <td>5000</td>\n",
       "      <td>1.0</td>\n",
       "      <td>NO</td>\n",
       "      <td>NONE</td>\n",
       "      <td>...</td>\n",
       "      <td>7 Average</td>\n",
       "      <td>1050</td>\n",
       "      <td>910.0</td>\n",
       "      <td>1965</td>\n",
       "      <td>0.0</td>\n",
       "      <td>98136</td>\n",
       "      <td>47.5208</td>\n",
       "      <td>-122.393</td>\n",
       "      <td>1360</td>\n",
       "      <td>5000</td>\n",
       "    </tr>\n",
       "    <tr>\n",
       "      <th>4</th>\n",
       "      <td>1954400510</td>\n",
       "      <td>2/18/2015</td>\n",
       "      <td>510000.0</td>\n",
       "      <td>3</td>\n",
       "      <td>2.00</td>\n",
       "      <td>1680</td>\n",
       "      <td>8080</td>\n",
       "      <td>1.0</td>\n",
       "      <td>NO</td>\n",
       "      <td>NONE</td>\n",
       "      <td>...</td>\n",
       "      <td>8 Good</td>\n",
       "      <td>1680</td>\n",
       "      <td>0.0</td>\n",
       "      <td>1987</td>\n",
       "      <td>0.0</td>\n",
       "      <td>98074</td>\n",
       "      <td>47.6168</td>\n",
       "      <td>-122.045</td>\n",
       "      <td>1800</td>\n",
       "      <td>7503</td>\n",
       "    </tr>\n",
       "  </tbody>\n",
       "</table>\n",
       "<p>5 rows × 21 columns</p>\n",
       "</div>"
      ],
      "text/plain": [
       "           id        date     price  bedrooms  bathrooms  sqft_living  \\\n",
       "0  7129300520  10/13/2014  221900.0         3       1.00         1180   \n",
       "1  6414100192   12/9/2014  538000.0         3       2.25         2570   \n",
       "2  5631500400   2/25/2015  180000.0         2       1.00          770   \n",
       "3  2487200875   12/9/2014  604000.0         4       3.00         1960   \n",
       "4  1954400510   2/18/2015  510000.0         3       2.00         1680   \n",
       "\n",
       "   sqft_lot  floors waterfront  view  ...          grade sqft_above  \\\n",
       "0      5650     1.0        NaN  NONE  ...      7 Average       1180   \n",
       "1      7242     2.0         NO  NONE  ...      7 Average       2170   \n",
       "2     10000     1.0         NO  NONE  ...  6 Low Average        770   \n",
       "3      5000     1.0         NO  NONE  ...      7 Average       1050   \n",
       "4      8080     1.0         NO  NONE  ...         8 Good       1680   \n",
       "\n",
       "   sqft_basement yr_built  yr_renovated  zipcode      lat     long  \\\n",
       "0            0.0     1955           0.0    98178  47.5112 -122.257   \n",
       "1          400.0     1951        1991.0    98125  47.7210 -122.319   \n",
       "2            0.0     1933           NaN    98028  47.7379 -122.233   \n",
       "3          910.0     1965           0.0    98136  47.5208 -122.393   \n",
       "4            0.0     1987           0.0    98074  47.6168 -122.045   \n",
       "\n",
       "   sqft_living15  sqft_lot15  \n",
       "0           1340        5650  \n",
       "1           1690        7639  \n",
       "2           2720        8062  \n",
       "3           1360        5000  \n",
       "4           1800        7503  \n",
       "\n",
       "[5 rows x 21 columns]"
      ]
     },
     "execution_count": 2,
     "metadata": {},
     "output_type": "execute_result"
    }
   ],
   "source": [
    "#loading dataset and column names\n",
    "df = pd.read_csv('./home_sales_analysis/data/kc_house_data.csv')\n",
    "\n",
    "df.head()"
   ]
  },
  {
   "cell_type": "code",
   "execution_count": 3,
   "metadata": {},
   "outputs": [
    {
     "data": {
      "text/plain": [
       "Index(['id', 'date', 'price', 'bedrooms', 'bathrooms', 'sqft_living',\n",
       "       'sqft_lot', 'floors', 'waterfront', 'view', 'condition', 'grade',\n",
       "       'sqft_above', 'sqft_basement', 'yr_built', 'yr_renovated', 'zipcode',\n",
       "       'lat', 'long', 'sqft_living15', 'sqft_lot15'],\n",
       "      dtype='object')"
      ]
     },
     "execution_count": 3,
     "metadata": {},
     "output_type": "execute_result"
    }
   ],
   "source": [
    "df.columns"
   ]
  },
  {
   "cell_type": "markdown",
   "metadata": {},
   "source": [
    "## Data Preparation"
   ]
  },
  {
   "cell_type": "markdown",
   "metadata": {},
   "source": [
    "To begin the data cleaning process, the data was observed broadly to understand the data. Specifically I wanted to learn more about the following:\n",
    "\n",
    "1. To see if any columns could be dropped due to irrelevance to the business question.\n",
    "2. To understand what types of data types were within each column and if these needed to be changed.\n",
    "3. To learn what columns had missing values, improper formatting, or placeholders."
   ]
  },
  {
   "cell_type": "code",
   "execution_count": 4,
   "metadata": {},
   "outputs": [
    {
     "name": "stdout",
     "output_type": "stream",
     "text": [
      "<class 'pandas.core.frame.DataFrame'>\n",
      "RangeIndex: 21597 entries, 0 to 21596\n",
      "Data columns (total 21 columns):\n",
      " #   Column         Non-Null Count  Dtype  \n",
      "---  ------         --------------  -----  \n",
      " 0   id             21597 non-null  int64  \n",
      " 1   date           21597 non-null  object \n",
      " 2   price          21597 non-null  float64\n",
      " 3   bedrooms       21597 non-null  int64  \n",
      " 4   bathrooms      21597 non-null  float64\n",
      " 5   sqft_living    21597 non-null  int64  \n",
      " 6   sqft_lot       21597 non-null  int64  \n",
      " 7   floors         21597 non-null  float64\n",
      " 8   waterfront     19221 non-null  object \n",
      " 9   view           21534 non-null  object \n",
      " 10  condition      21597 non-null  object \n",
      " 11  grade          21597 non-null  object \n",
      " 12  sqft_above     21597 non-null  int64  \n",
      " 13  sqft_basement  21597 non-null  object \n",
      " 14  yr_built       21597 non-null  int64  \n",
      " 15  yr_renovated   17755 non-null  float64\n",
      " 16  zipcode        21597 non-null  int64  \n",
      " 17  lat            21597 non-null  float64\n",
      " 18  long           21597 non-null  float64\n",
      " 19  sqft_living15  21597 non-null  int64  \n",
      " 20  sqft_lot15     21597 non-null  int64  \n",
      "dtypes: float64(6), int64(9), object(6)\n",
      "memory usage: 3.5+ MB\n"
     ]
    }
   ],
   "source": [
    "df.info()"
   ]
  },
  {
   "cell_type": "code",
   "execution_count": 5,
   "metadata": {},
   "outputs": [
    {
     "name": "stdout",
     "output_type": "stream",
     "text": [
      "id 795000620     3\n",
      "1825069031    2\n",
      "2019200220    2\n",
      "7129304540    2\n",
      "1781500435    2\n",
      "Name: id, dtype: int64\n",
      "\n",
      "\n",
      "date 6/23/2014    142\n",
      "6/25/2014    131\n",
      "6/26/2014    131\n",
      "7/8/2014     127\n",
      "4/27/2015    126\n",
      "Name: date, dtype: int64\n",
      "\n",
      "\n",
      "price 350000.0    172\n",
      "450000.0    172\n",
      "550000.0    159\n",
      "500000.0    152\n",
      "425000.0    150\n",
      "           ... \n",
      "870515.0      1\n",
      "336950.0      1\n",
      "386100.0      1\n",
      "176250.0      1\n",
      "884744.0      1\n",
      "Name: price, Length: 3622, dtype: int64\n",
      "\n",
      "\n",
      "bedrooms 3    9824\n",
      "4    6882\n",
      "2    2760\n",
      "5    1601\n",
      "6     272\n",
      "Name: bedrooms, dtype: int64\n",
      "\n",
      "\n",
      "bathrooms 2.50    5377\n",
      "1.00    3851\n",
      "1.75    3048\n",
      "2.25    2047\n",
      "2.00    1930\n",
      "1.50    1445\n",
      "2.75    1185\n",
      "3.00     753\n",
      "3.50     731\n",
      "3.25     589\n",
      "3.75     155\n",
      "4.00     136\n",
      "4.50     100\n",
      "4.25      79\n",
      "0.75      71\n",
      "4.75      23\n",
      "5.00      21\n",
      "Name: bathrooms, dtype: int64\n",
      "\n",
      "\n",
      "sqft_living 1300    138\n",
      "1400    135\n",
      "1440    133\n",
      "1660    129\n",
      "1010    129\n",
      "Name: sqft_living, dtype: int64\n",
      "\n",
      "\n",
      "sqft_lot 5000    358\n",
      "6000    290\n",
      "4000    251\n",
      "7200    220\n",
      "7500    119\n",
      "Name: sqft_lot, dtype: int64\n",
      "\n",
      "\n",
      "floors 1.0    10673\n",
      "2.0     8235\n",
      "1.5     1910\n",
      "3.0      611\n",
      "2.5      161\n",
      "3.5        7\n",
      "Name: floors, dtype: int64\n",
      "\n",
      "\n",
      "waterfront NO     19075\n",
      "YES      146\n",
      "Name: waterfront, dtype: int64\n",
      "\n",
      "\n",
      "view NONE         19422\n",
      "AVERAGE        957\n",
      "GOOD           508\n",
      "FAIR           330\n",
      "EXCELLENT      317\n",
      "Name: view, dtype: int64\n",
      "\n",
      "\n",
      "condition Average      14020\n",
      "Good          5677\n",
      "Very Good     1701\n",
      "Fair           170\n",
      "Poor            29\n",
      "Name: condition, dtype: int64\n",
      "\n",
      "\n",
      "grade 7 Average        8974\n",
      "8 Good           6065\n",
      "9 Better         2615\n",
      "6 Low Average    2038\n",
      "10 Very Good     1134\n",
      "Name: grade, dtype: int64\n",
      "\n",
      "\n",
      "sqft_above 1300    212\n",
      "1010    210\n",
      "1200    206\n",
      "1220    192\n",
      "1140    184\n",
      "Name: sqft_above, dtype: int64\n",
      "\n",
      "\n",
      "sqft_basement 0.0      12826\n",
      "?          454\n",
      "600.0      217\n",
      "500.0      209\n",
      "700.0      208\n",
      "Name: sqft_basement, dtype: int64\n",
      "\n",
      "\n",
      "yr_built 2014    559\n",
      "2006    453\n",
      "2005    450\n",
      "2004    433\n",
      "2003    420\n",
      "Name: yr_built, dtype: int64\n",
      "\n",
      "\n",
      "yr_renovated 0.0       17011\n",
      "2014.0       73\n",
      "2003.0       31\n",
      "2013.0       31\n",
      "2007.0       30\n",
      "          ...  \n",
      "1946.0        1\n",
      "1959.0        1\n",
      "1971.0        1\n",
      "1951.0        1\n",
      "1954.0        1\n",
      "Name: yr_renovated, Length: 70, dtype: int64\n",
      "\n",
      "\n",
      "zipcode 98103    602\n",
      "98038    589\n",
      "98115    583\n",
      "98052    574\n",
      "98117    553\n",
      "Name: zipcode, dtype: int64\n",
      "\n",
      "\n",
      "lat 47.6846    17\n",
      "47.5322    17\n",
      "47.6624    17\n",
      "47.5491    17\n",
      "47.6886    16\n",
      "           ..\n",
      "47.3104     1\n",
      "47.4681     1\n",
      "47.2819     1\n",
      "47.6096     1\n",
      "47.4300     1\n",
      "Name: lat, Length: 5033, dtype: int64\n",
      "\n",
      "\n",
      "long -122.290    115\n",
      "-122.300    111\n",
      "-122.362    104\n",
      "-122.291    100\n",
      "-122.372     99\n",
      "           ... \n",
      "-121.803      1\n",
      "-121.711      1\n",
      "-122.454      1\n",
      "-121.835      1\n",
      "-121.849      1\n",
      "Name: long, Length: 751, dtype: int64\n",
      "\n",
      "\n",
      "sqft_living15 1540    197\n",
      "1440    195\n",
      "1560    192\n",
      "1500    180\n",
      "1460    169\n",
      "Name: sqft_living15, dtype: int64\n",
      "\n",
      "\n",
      "sqft_lot15 5000    427\n",
      "4000    356\n",
      "6000    288\n",
      "7200    210\n",
      "4800    145\n",
      "Name: sqft_lot15, dtype: int64\n",
      "\n",
      "\n"
     ]
    }
   ],
   "source": [
    "#checking each columns most common values to check for placeholders/outliers\n",
    "for col in df.columns:\n",
    "    if col:\n",
    "        try:\n",
    "            print(col, df[col].value_counts()[:5])\n",
    "        except:\n",
    "            print(col, df[col].value_counts())\n",
    "    print('\\n')"
   ]
  },
  {
   "cell_type": "markdown",
   "metadata": {},
   "source": [
    "### Data Cleaning"
   ]
  },
  {
   "cell_type": "markdown",
   "metadata": {},
   "source": [
    "#### Step 1: Dropping Irrelevant Columns"
   ]
  },
  {
   "cell_type": "markdown",
   "metadata": {},
   "source": [
    "Based on preliminary investigation of the data, several columns were dropped due to irrelevance . \n",
    "\n",
    "The removed columns include: *lat, long, sqft_lot15, sqft_living15, sqft_above, and sqft_basement*.\n",
    "\n",
    "These columns were removed for the following reasons:\n",
    "* <u>*waterfront*</u> was removed because very few data entries qualified for waterfront. Only 146 out of 19921 (.0007%) entries with non-null values were waterfront properties. Making it an unlikely contributor to influencing price.\n",
    "* <u>*lat*</u> and <u>*long*</u> were removed since the global coordinates of a house did not seem relevant to the current business question since all homes are located in the same general area. \n",
    "* <u>*sqft_above*</u>, <u>*sqft_lot15*</u>, <u>*sqft_living15*</u>, and <u>*sqft_basement*</u> were redundant categories which are better represented in the columns <u>*sqft_living*</u> and <u>*sqft_lot*</u>."
   ]
  },
  {
   "cell_type": "code",
   "execution_count": 6,
   "metadata": {},
   "outputs": [],
   "source": [
    "#dropping irrelevant columns\n",
    "dropped_columns = ['lat', 'long', 'waterfront','sqft_lot15', \n",
    "                  'sqft_living15','sqft_above', 'sqft_basement']\n",
    "\n",
    "df.drop(dropped_columns, axis=1, inplace=True)"
   ]
  },
  {
   "cell_type": "code",
   "execution_count": 7,
   "metadata": {},
   "outputs": [
    {
     "data": {
      "text/html": [
       "<div>\n",
       "<style scoped>\n",
       "    .dataframe tbody tr th:only-of-type {\n",
       "        vertical-align: middle;\n",
       "    }\n",
       "\n",
       "    .dataframe tbody tr th {\n",
       "        vertical-align: top;\n",
       "    }\n",
       "\n",
       "    .dataframe thead th {\n",
       "        text-align: right;\n",
       "    }\n",
       "</style>\n",
       "<table border=\"1\" class=\"dataframe\">\n",
       "  <thead>\n",
       "    <tr style=\"text-align: right;\">\n",
       "      <th></th>\n",
       "      <th>id</th>\n",
       "      <th>date</th>\n",
       "      <th>price</th>\n",
       "      <th>bedrooms</th>\n",
       "      <th>bathrooms</th>\n",
       "      <th>sqft_living</th>\n",
       "      <th>sqft_lot</th>\n",
       "      <th>floors</th>\n",
       "      <th>view</th>\n",
       "      <th>condition</th>\n",
       "      <th>grade</th>\n",
       "      <th>yr_built</th>\n",
       "      <th>yr_renovated</th>\n",
       "      <th>zipcode</th>\n",
       "    </tr>\n",
       "  </thead>\n",
       "  <tbody>\n",
       "    <tr>\n",
       "      <th>0</th>\n",
       "      <td>7129300520</td>\n",
       "      <td>10/13/2014</td>\n",
       "      <td>221900.0</td>\n",
       "      <td>3</td>\n",
       "      <td>1.00</td>\n",
       "      <td>1180</td>\n",
       "      <td>5650</td>\n",
       "      <td>1.0</td>\n",
       "      <td>NONE</td>\n",
       "      <td>Average</td>\n",
       "      <td>7 Average</td>\n",
       "      <td>1955</td>\n",
       "      <td>0.0</td>\n",
       "      <td>98178</td>\n",
       "    </tr>\n",
       "    <tr>\n",
       "      <th>1</th>\n",
       "      <td>6414100192</td>\n",
       "      <td>12/9/2014</td>\n",
       "      <td>538000.0</td>\n",
       "      <td>3</td>\n",
       "      <td>2.25</td>\n",
       "      <td>2570</td>\n",
       "      <td>7242</td>\n",
       "      <td>2.0</td>\n",
       "      <td>NONE</td>\n",
       "      <td>Average</td>\n",
       "      <td>7 Average</td>\n",
       "      <td>1951</td>\n",
       "      <td>1991.0</td>\n",
       "      <td>98125</td>\n",
       "    </tr>\n",
       "    <tr>\n",
       "      <th>2</th>\n",
       "      <td>5631500400</td>\n",
       "      <td>2/25/2015</td>\n",
       "      <td>180000.0</td>\n",
       "      <td>2</td>\n",
       "      <td>1.00</td>\n",
       "      <td>770</td>\n",
       "      <td>10000</td>\n",
       "      <td>1.0</td>\n",
       "      <td>NONE</td>\n",
       "      <td>Average</td>\n",
       "      <td>6 Low Average</td>\n",
       "      <td>1933</td>\n",
       "      <td>NaN</td>\n",
       "      <td>98028</td>\n",
       "    </tr>\n",
       "    <tr>\n",
       "      <th>3</th>\n",
       "      <td>2487200875</td>\n",
       "      <td>12/9/2014</td>\n",
       "      <td>604000.0</td>\n",
       "      <td>4</td>\n",
       "      <td>3.00</td>\n",
       "      <td>1960</td>\n",
       "      <td>5000</td>\n",
       "      <td>1.0</td>\n",
       "      <td>NONE</td>\n",
       "      <td>Very Good</td>\n",
       "      <td>7 Average</td>\n",
       "      <td>1965</td>\n",
       "      <td>0.0</td>\n",
       "      <td>98136</td>\n",
       "    </tr>\n",
       "    <tr>\n",
       "      <th>4</th>\n",
       "      <td>1954400510</td>\n",
       "      <td>2/18/2015</td>\n",
       "      <td>510000.0</td>\n",
       "      <td>3</td>\n",
       "      <td>2.00</td>\n",
       "      <td>1680</td>\n",
       "      <td>8080</td>\n",
       "      <td>1.0</td>\n",
       "      <td>NONE</td>\n",
       "      <td>Average</td>\n",
       "      <td>8 Good</td>\n",
       "      <td>1987</td>\n",
       "      <td>0.0</td>\n",
       "      <td>98074</td>\n",
       "    </tr>\n",
       "  </tbody>\n",
       "</table>\n",
       "</div>"
      ],
      "text/plain": [
       "           id        date     price  bedrooms  bathrooms  sqft_living  \\\n",
       "0  7129300520  10/13/2014  221900.0         3       1.00         1180   \n",
       "1  6414100192   12/9/2014  538000.0         3       2.25         2570   \n",
       "2  5631500400   2/25/2015  180000.0         2       1.00          770   \n",
       "3  2487200875   12/9/2014  604000.0         4       3.00         1960   \n",
       "4  1954400510   2/18/2015  510000.0         3       2.00         1680   \n",
       "\n",
       "   sqft_lot  floors  view  condition          grade  yr_built  yr_renovated  \\\n",
       "0      5650     1.0  NONE    Average      7 Average      1955           0.0   \n",
       "1      7242     2.0  NONE    Average      7 Average      1951        1991.0   \n",
       "2     10000     1.0  NONE    Average  6 Low Average      1933           NaN   \n",
       "3      5000     1.0  NONE  Very Good      7 Average      1965           0.0   \n",
       "4      8080     1.0  NONE    Average         8 Good      1987           0.0   \n",
       "\n",
       "   zipcode  \n",
       "0    98178  \n",
       "1    98125  \n",
       "2    98028  \n",
       "3    98136  \n",
       "4    98074  "
      ]
     },
     "execution_count": 7,
     "metadata": {},
     "output_type": "execute_result"
    }
   ],
   "source": [
    "df.head()"
   ]
  },
  {
   "cell_type": "markdown",
   "metadata": {},
   "source": [
    "#### Step 1a: Feature Engineering Date Column"
   ]
  },
  {
   "cell_type": "markdown",
   "metadata": {},
   "source": [
    "It was decided to feature engineer the date column by dividing the sell-date into the four seasons (fall, winter, spring, summer) to see if the time of year a home is sold contributes to its selling price. \n",
    "\n",
    "Each of the seasons was broken down as follows:\n",
    "- Fall: (09/01 - 11/30) or (week 36-48)\n",
    "- Winter: (12/01 - 02/28) or (week 49-52, 1-8)\n",
    "- Spring:(03/01 - 05/31) (week 9-22)\n",
    "- Summer: (06/01 - 08/31)or (week 23-35)\n"
   ]
  },
  {
   "cell_type": "code",
   "execution_count": 8,
   "metadata": {},
   "outputs": [
    {
     "data": {
      "text/plain": [
       "6/23/2014     142\n",
       "6/25/2014     131\n",
       "6/26/2014     131\n",
       "7/8/2014      127\n",
       "4/27/2015     126\n",
       "             ... \n",
       "11/30/2014      1\n",
       "8/3/2014        1\n",
       "11/2/2014       1\n",
       "1/17/2015       1\n",
       "1/10/2015       1\n",
       "Name: date, Length: 372, dtype: int64"
      ]
     },
     "execution_count": 8,
     "metadata": {},
     "output_type": "execute_result"
    }
   ],
   "source": [
    "df['date'].value_counts()"
   ]
  },
  {
   "cell_type": "code",
   "execution_count": 9,
   "metadata": {},
   "outputs": [],
   "source": [
    "#converting column to datetime dtype\n",
    "#df['date'] = pd.to_datetime(df['date'])"
   ]
  },
  {
   "cell_type": "code",
   "execution_count": 10,
   "metadata": {},
   "outputs": [],
   "source": [
    "#df['weeks'] = df['date'].dt.week"
   ]
  },
  {
   "cell_type": "code",
   "execution_count": 11,
   "metadata": {},
   "outputs": [],
   "source": [
    "# def season_sorter(series):\n",
    "#     for week in series:\n",
    "#         if (week > 35) & (week < 48):\n",
    "#             week = 'Fall'\n",
    "#         elif ((week > 48 & week <=52) | week <= 8):\n",
    "#             week = 'Winter'\n",
    "#         elif (week > )"
   ]
  },
  {
   "cell_type": "code",
   "execution_count": 12,
   "metadata": {},
   "outputs": [],
   "source": [
    "#df['weeks'].apply(season_sorter)"
   ]
  },
  {
   "cell_type": "markdown",
   "metadata": {},
   "source": [
    "#### Step 2: Dealing with Null Values"
   ]
  },
  {
   "cell_type": "code",
   "execution_count": 13,
   "metadata": {},
   "outputs": [
    {
     "name": "stdout",
     "output_type": "stream",
     "text": [
      "<class 'pandas.core.frame.DataFrame'>\n",
      "RangeIndex: 21597 entries, 0 to 21596\n",
      "Data columns (total 14 columns):\n",
      " #   Column        Non-Null Count  Dtype  \n",
      "---  ------        --------------  -----  \n",
      " 0   id            21597 non-null  int64  \n",
      " 1   date          21597 non-null  object \n",
      " 2   price         21597 non-null  float64\n",
      " 3   bedrooms      21597 non-null  int64  \n",
      " 4   bathrooms     21597 non-null  float64\n",
      " 5   sqft_living   21597 non-null  int64  \n",
      " 6   sqft_lot      21597 non-null  int64  \n",
      " 7   floors        21597 non-null  float64\n",
      " 8   view          21534 non-null  object \n",
      " 9   condition     21597 non-null  object \n",
      " 10  grade         21597 non-null  object \n",
      " 11  yr_built      21597 non-null  int64  \n",
      " 12  yr_renovated  17755 non-null  float64\n",
      " 13  zipcode       21597 non-null  int64  \n",
      "dtypes: float64(4), int64(6), object(4)\n",
      "memory usage: 2.3+ MB\n"
     ]
    }
   ],
   "source": [
    "df.info()"
   ]
  },
  {
   "cell_type": "markdown",
   "metadata": {},
   "source": [
    "**yr_renovated**\n",
    "\n",
    "For yr_renovated there are 3842 null values. This is a large number and accounts for 17% of the 21,597 entries.\n",
    "\n",
    "When looking at the data, 0.00 seems to be a placeholder for homes that have not been renovated. This placeholder accounts for 17,011 entries. When combined, these null values/placeholders account for 20,853 out of the 21,597 entries.\n",
    "\n",
    "Since it may still be useful to know whether or not a home was renovated, yr_renovated was transformed into the binary variable renovated_cat that applied 1's to homes that had been renovated after 2000 (last 15 years of the dataset) and applied 0's to homes that were either not renovated or renovated before 2005. After this, the yr_renovated column was dropped.\n",
    "\n",
    "**view**\n",
    "\n",
    "For the view column there are only 63 null values, accounting for 0.0003% of total entries, so these null values were simply dropped."
   ]
  },
  {
   "cell_type": "code",
   "execution_count": 14,
   "metadata": {},
   "outputs": [
    {
     "data": {
      "text/plain": [
       "id                 0\n",
       "date               0\n",
       "price              0\n",
       "bedrooms           0\n",
       "bathrooms          0\n",
       "sqft_living        0\n",
       "sqft_lot           0\n",
       "floors             0\n",
       "view              63\n",
       "condition          0\n",
       "grade              0\n",
       "yr_built           0\n",
       "yr_renovated    3842\n",
       "zipcode            0\n",
       "dtype: int64"
      ]
     },
     "execution_count": 14,
     "metadata": {},
     "output_type": "execute_result"
    }
   ],
   "source": [
    "#detecting which columns have null/missing values\n",
    "df.isna().sum()"
   ]
  },
  {
   "cell_type": "code",
   "execution_count": 15,
   "metadata": {},
   "outputs": [
    {
     "data": {
      "text/html": [
       "<div>\n",
       "<style scoped>\n",
       "    .dataframe tbody tr th:only-of-type {\n",
       "        vertical-align: middle;\n",
       "    }\n",
       "\n",
       "    .dataframe tbody tr th {\n",
       "        vertical-align: top;\n",
       "    }\n",
       "\n",
       "    .dataframe thead th {\n",
       "        text-align: right;\n",
       "    }\n",
       "</style>\n",
       "<table border=\"1\" class=\"dataframe\">\n",
       "  <thead>\n",
       "    <tr style=\"text-align: right;\">\n",
       "      <th></th>\n",
       "      <th>id</th>\n",
       "      <th>price</th>\n",
       "      <th>bedrooms</th>\n",
       "      <th>bathrooms</th>\n",
       "      <th>sqft_living</th>\n",
       "      <th>sqft_lot</th>\n",
       "      <th>floors</th>\n",
       "      <th>yr_built</th>\n",
       "      <th>yr_renovated</th>\n",
       "      <th>zipcode</th>\n",
       "    </tr>\n",
       "  </thead>\n",
       "  <tbody>\n",
       "    <tr>\n",
       "      <th>count</th>\n",
       "      <td>2.159700e+04</td>\n",
       "      <td>2.159700e+04</td>\n",
       "      <td>21597.000000</td>\n",
       "      <td>21597.000000</td>\n",
       "      <td>21597.000000</td>\n",
       "      <td>2.159700e+04</td>\n",
       "      <td>21597.000000</td>\n",
       "      <td>21597.000000</td>\n",
       "      <td>17755.000000</td>\n",
       "      <td>21597.000000</td>\n",
       "    </tr>\n",
       "    <tr>\n",
       "      <th>mean</th>\n",
       "      <td>4.580474e+09</td>\n",
       "      <td>5.402966e+05</td>\n",
       "      <td>3.373200</td>\n",
       "      <td>2.115826</td>\n",
       "      <td>2080.321850</td>\n",
       "      <td>1.509941e+04</td>\n",
       "      <td>1.494096</td>\n",
       "      <td>1970.999676</td>\n",
       "      <td>83.636778</td>\n",
       "      <td>98077.951845</td>\n",
       "    </tr>\n",
       "    <tr>\n",
       "      <th>std</th>\n",
       "      <td>2.876736e+09</td>\n",
       "      <td>3.673681e+05</td>\n",
       "      <td>0.926299</td>\n",
       "      <td>0.768984</td>\n",
       "      <td>918.106125</td>\n",
       "      <td>4.141264e+04</td>\n",
       "      <td>0.539683</td>\n",
       "      <td>29.375234</td>\n",
       "      <td>399.946414</td>\n",
       "      <td>53.513072</td>\n",
       "    </tr>\n",
       "    <tr>\n",
       "      <th>min</th>\n",
       "      <td>1.000102e+06</td>\n",
       "      <td>7.800000e+04</td>\n",
       "      <td>1.000000</td>\n",
       "      <td>0.500000</td>\n",
       "      <td>370.000000</td>\n",
       "      <td>5.200000e+02</td>\n",
       "      <td>1.000000</td>\n",
       "      <td>1900.000000</td>\n",
       "      <td>0.000000</td>\n",
       "      <td>98001.000000</td>\n",
       "    </tr>\n",
       "    <tr>\n",
       "      <th>25%</th>\n",
       "      <td>2.123049e+09</td>\n",
       "      <td>3.220000e+05</td>\n",
       "      <td>3.000000</td>\n",
       "      <td>1.750000</td>\n",
       "      <td>1430.000000</td>\n",
       "      <td>5.040000e+03</td>\n",
       "      <td>1.000000</td>\n",
       "      <td>1951.000000</td>\n",
       "      <td>0.000000</td>\n",
       "      <td>98033.000000</td>\n",
       "    </tr>\n",
       "    <tr>\n",
       "      <th>50%</th>\n",
       "      <td>3.904930e+09</td>\n",
       "      <td>4.500000e+05</td>\n",
       "      <td>3.000000</td>\n",
       "      <td>2.250000</td>\n",
       "      <td>1910.000000</td>\n",
       "      <td>7.618000e+03</td>\n",
       "      <td>1.500000</td>\n",
       "      <td>1975.000000</td>\n",
       "      <td>0.000000</td>\n",
       "      <td>98065.000000</td>\n",
       "    </tr>\n",
       "    <tr>\n",
       "      <th>75%</th>\n",
       "      <td>7.308900e+09</td>\n",
       "      <td>6.450000e+05</td>\n",
       "      <td>4.000000</td>\n",
       "      <td>2.500000</td>\n",
       "      <td>2550.000000</td>\n",
       "      <td>1.068500e+04</td>\n",
       "      <td>2.000000</td>\n",
       "      <td>1997.000000</td>\n",
       "      <td>0.000000</td>\n",
       "      <td>98118.000000</td>\n",
       "    </tr>\n",
       "    <tr>\n",
       "      <th>max</th>\n",
       "      <td>9.900000e+09</td>\n",
       "      <td>7.700000e+06</td>\n",
       "      <td>33.000000</td>\n",
       "      <td>8.000000</td>\n",
       "      <td>13540.000000</td>\n",
       "      <td>1.651359e+06</td>\n",
       "      <td>3.500000</td>\n",
       "      <td>2015.000000</td>\n",
       "      <td>2015.000000</td>\n",
       "      <td>98199.000000</td>\n",
       "    </tr>\n",
       "  </tbody>\n",
       "</table>\n",
       "</div>"
      ],
      "text/plain": [
       "                 id         price      bedrooms     bathrooms   sqft_living  \\\n",
       "count  2.159700e+04  2.159700e+04  21597.000000  21597.000000  21597.000000   \n",
       "mean   4.580474e+09  5.402966e+05      3.373200      2.115826   2080.321850   \n",
       "std    2.876736e+09  3.673681e+05      0.926299      0.768984    918.106125   \n",
       "min    1.000102e+06  7.800000e+04      1.000000      0.500000    370.000000   \n",
       "25%    2.123049e+09  3.220000e+05      3.000000      1.750000   1430.000000   \n",
       "50%    3.904930e+09  4.500000e+05      3.000000      2.250000   1910.000000   \n",
       "75%    7.308900e+09  6.450000e+05      4.000000      2.500000   2550.000000   \n",
       "max    9.900000e+09  7.700000e+06     33.000000      8.000000  13540.000000   \n",
       "\n",
       "           sqft_lot        floors      yr_built  yr_renovated       zipcode  \n",
       "count  2.159700e+04  21597.000000  21597.000000  17755.000000  21597.000000  \n",
       "mean   1.509941e+04      1.494096   1970.999676     83.636778  98077.951845  \n",
       "std    4.141264e+04      0.539683     29.375234    399.946414     53.513072  \n",
       "min    5.200000e+02      1.000000   1900.000000      0.000000  98001.000000  \n",
       "25%    5.040000e+03      1.000000   1951.000000      0.000000  98033.000000  \n",
       "50%    7.618000e+03      1.500000   1975.000000      0.000000  98065.000000  \n",
       "75%    1.068500e+04      2.000000   1997.000000      0.000000  98118.000000  \n",
       "max    1.651359e+06      3.500000   2015.000000   2015.000000  98199.000000  "
      ]
     },
     "execution_count": 15,
     "metadata": {},
     "output_type": "execute_result"
    }
   ],
   "source": [
    "#observing minimum and maximum values to look for potential placeholders\n",
    "df.describe()\n"
   ]
  },
  {
   "cell_type": "code",
   "execution_count": 16,
   "metadata": {},
   "outputs": [],
   "source": [
    "#filling na values with 0.00 and creating a new categorical column\n",
    "df['renovated_cat'] = df['yr_renovated'].fillna(0.00)"
   ]
  },
  {
   "cell_type": "code",
   "execution_count": 17,
   "metadata": {},
   "outputs": [
    {
     "data": {
      "text/plain": [
       "0    21247\n",
       "1      350\n",
       "Name: renovated_cat, dtype: int64"
      ]
     },
     "execution_count": 17,
     "metadata": {},
     "output_type": "execute_result"
    }
   ],
   "source": [
    "#new column accounts for homes that were a.) renovated and b.) renovated in\n",
    "#the last 15 years (2000 or later)\n",
    "df['renovated_cat'] = df['renovated_cat'].map(lambda x: 1 if x > 2000 else 0)\n",
    "\n",
    "df['renovated_cat'].value_counts()"
   ]
  },
  {
   "cell_type": "code",
   "execution_count": 18,
   "metadata": {},
   "outputs": [],
   "source": [
    "#dropping yr_renovated since it is no longer needed\n",
    "df.drop('yr_renovated', axis=1, inplace=True)"
   ]
  },
  {
   "cell_type": "code",
   "execution_count": 19,
   "metadata": {},
   "outputs": [],
   "source": [
    "#dropping the 63 null values in the view column\n",
    "df.dropna(subset=['view'], inplace=True)"
   ]
  },
  {
   "cell_type": "code",
   "execution_count": 20,
   "metadata": {},
   "outputs": [
    {
     "data": {
      "text/plain": [
       "id               0\n",
       "date             0\n",
       "price            0\n",
       "bedrooms         0\n",
       "bathrooms        0\n",
       "sqft_living      0\n",
       "sqft_lot         0\n",
       "floors           0\n",
       "view             0\n",
       "condition        0\n",
       "grade            0\n",
       "yr_built         0\n",
       "zipcode          0\n",
       "renovated_cat    0\n",
       "dtype: int64"
      ]
     },
     "execution_count": 20,
     "metadata": {},
     "output_type": "execute_result"
    }
   ],
   "source": [
    "#double-checking all na values are taken care of\n",
    "df.isna().sum()"
   ]
  },
  {
   "cell_type": "markdown",
   "metadata": {},
   "source": [
    "### Step 3: Dealing with Outliers in Predictor Variables (sales)"
   ]
  },
  {
   "cell_type": "markdown",
   "metadata": {},
   "source": [
    "#### Step 3: Transforming and Normalizing Continuous Data"
   ]
  },
  {
   "cell_type": "markdown",
   "metadata": {},
   "source": [
    "With the data mostly clean, the variables are visualized using histograms. These visualizations help to assess whether variables are categorical or continuous. The visualizations also aid in determining whether or not the continuous variables are normally distributed or skewed.\n",
    "\n",
    "In the case of the data below, most of the continuous variables are positively skewed with some extreme outliers positioned to the right of the graph. The positive skew is particularly apparent with sqft_lot, price, and sqft_living. With such a strong skew, the residuals are bound to be problematic for linear regression.\n",
    "\n",
    "However, prior to addressing this, a baseline model was created to determine if log scaling has any impact on model effectiveness. For the baseline model, the continuous variables were scaled using normalization (mean=0, SD=1)."
   ]
  },
  {
   "cell_type": "code",
   "execution_count": 21,
   "metadata": {},
   "outputs": [
    {
     "data": {
      "image/png": "[encoded data removed]",
      "text/plain": [
       "<Figure size 720x720 with 12 Axes>"
      ]
     },
     "metadata": {
      "needs_background": "light"
     },
     "output_type": "display_data"
    }
   ],
   "source": [
    "#using visualizations to determine if columns continuous or categorical\n",
    "#also to check if data is skewed or not and in need of transformations\n",
    "df.hist(figsize=[10, 10], bins='auto');"
   ]
  },
  {
   "cell_type": "code",
   "execution_count": 22,
   "metadata": {},
   "outputs": [],
   "source": [
    "#only sqft_living, sqft_lt, price, and yr_built are continuous variables\n",
    "\n",
    "#splitting columns into categorical or cont variables\n",
    "cont = ['price','sqft_living', 'yr_built', 'sqft_lot']\n",
    "categ = ['bedrooms', 'bathrooms', 'zipcode', 'floors', 'renovated_cat', 'grade',\n",
    "        'condition', 'view']\n",
    "\n",
    "df_cont = df[cont]\n",
    "df_categ = df[categ]"
   ]
  },
  {
   "cell_type": "markdown",
   "metadata": {},
   "source": [
    "#### Step 4: One-Hot Encoding Categorical Data"
   ]
  },
  {
   "cell_type": "code",
   "execution_count": 24,
   "metadata": {},
   "outputs": [],
   "source": [
    "#performing ohe for categorical variables\n",
    "categ_dummies = pd.get_dummies(df_categ, drop_first=True)"
   ]
  },
  {
   "cell_type": "markdown",
   "metadata": {},
   "source": [
    "#### Step 5: Combining Features into Baseline Dataframe"
   ]
  },
  {
   "cell_type": "code",
   "execution_count": 63,
   "metadata": {},
   "outputs": [],
   "source": [
    "#concatinating categorical and continuous vars into baseline model\n",
    "preprocessed = pd.concat([df_cont, categ_dummies], axis=1)"
   ]
  },
  {
   "cell_type": "markdown",
   "metadata": {},
   "source": [
    "## Data Exploration"
   ]
  },
  {
   "cell_type": "markdown",
   "metadata": {},
   "source": [
    "With scrubbed data, the data frame is now explored to check for multicolinearity and drop offending columns."
   ]
  },
  {
   "cell_type": "markdown",
   "metadata": {},
   "source": [
    "### Checking for Multicollinearity"
   ]
  },
  {
   "cell_type": "markdown",
   "metadata": {},
   "source": [
    "Using seaborn heatmapping, two features appear to be correlated:\n",
    "\n",
    "1.) bathrooms and sqft_living (r=.76),\n",
    "\n",
    "This correlation with makes logical sense. As the number of bathrooms increase, so too does the square footage of a house. More bathrooms equals more square footage. Since this relationship makes sense, it was decided not to remove either of the correlated pairs."
   ]
  },
  {
   "cell_type": "code",
   "execution_count": 64,
   "metadata": {},
   "outputs": [
    {
     "data": {
      "text/html": [
       "<div>\n",
       "<style scoped>\n",
       "    .dataframe tbody tr th:only-of-type {\n",
       "        vertical-align: middle;\n",
       "    }\n",
       "\n",
       "    .dataframe tbody tr th {\n",
       "        vertical-align: top;\n",
       "    }\n",
       "\n",
       "    .dataframe thead th {\n",
       "        text-align: right;\n",
       "    }\n",
       "</style>\n",
       "<table border=\"1\" class=\"dataframe\">\n",
       "  <thead>\n",
       "    <tr style=\"text-align: right;\">\n",
       "      <th></th>\n",
       "      <th>price</th>\n",
       "      <th>bedrooms</th>\n",
       "      <th>bathrooms</th>\n",
       "      <th>sqft_living</th>\n",
       "      <th>sqft_lot</th>\n",
       "      <th>floors</th>\n",
       "      <th>yr_built</th>\n",
       "      <th>renovated_cat</th>\n",
       "    </tr>\n",
       "  </thead>\n",
       "  <tbody>\n",
       "    <tr>\n",
       "      <th>price</th>\n",
       "      <td>1.000000</td>\n",
       "      <td>0.308063</td>\n",
       "      <td>0.525053</td>\n",
       "      <td>0.701587</td>\n",
       "      <td>0.090338</td>\n",
       "      <td>0.257052</td>\n",
       "      <td>0.054273</td>\n",
       "      <td>0.103149</td>\n",
       "    </tr>\n",
       "    <tr>\n",
       "      <th>bedrooms</th>\n",
       "      <td>0.308063</td>\n",
       "      <td>1.000000</td>\n",
       "      <td>0.514368</td>\n",
       "      <td>0.577934</td>\n",
       "      <td>0.032735</td>\n",
       "      <td>0.177391</td>\n",
       "      <td>0.155462</td>\n",
       "      <td>0.032681</td>\n",
       "    </tr>\n",
       "    <tr>\n",
       "      <th>bathrooms</th>\n",
       "      <td>0.525053</td>\n",
       "      <td>0.514368</td>\n",
       "      <td>1.000000</td>\n",
       "      <td>0.755277</td>\n",
       "      <td>0.088921</td>\n",
       "      <td>0.502285</td>\n",
       "      <td>0.507565</td>\n",
       "      <td>0.058176</td>\n",
       "    </tr>\n",
       "    <tr>\n",
       "      <th>sqft_living</th>\n",
       "      <td>0.701587</td>\n",
       "      <td>0.577934</td>\n",
       "      <td>0.755277</td>\n",
       "      <td>1.000000</td>\n",
       "      <td>0.173768</td>\n",
       "      <td>0.353529</td>\n",
       "      <td>0.318217</td>\n",
       "      <td>0.046924</td>\n",
       "    </tr>\n",
       "    <tr>\n",
       "      <th>sqft_lot</th>\n",
       "      <td>0.090338</td>\n",
       "      <td>0.032735</td>\n",
       "      <td>0.088921</td>\n",
       "      <td>0.173768</td>\n",
       "      <td>1.000000</td>\n",
       "      <td>-0.005025</td>\n",
       "      <td>0.052646</td>\n",
       "      <td>-0.014390</td>\n",
       "    </tr>\n",
       "    <tr>\n",
       "      <th>floors</th>\n",
       "      <td>0.257052</td>\n",
       "      <td>0.177391</td>\n",
       "      <td>0.502285</td>\n",
       "      <td>0.353529</td>\n",
       "      <td>-0.005025</td>\n",
       "      <td>1.000000</td>\n",
       "      <td>0.489410</td>\n",
       "      <td>0.002760</td>\n",
       "    </tr>\n",
       "    <tr>\n",
       "      <th>yr_built</th>\n",
       "      <td>0.054273</td>\n",
       "      <td>0.155462</td>\n",
       "      <td>0.507565</td>\n",
       "      <td>0.318217</td>\n",
       "      <td>0.052646</td>\n",
       "      <td>0.489410</td>\n",
       "      <td>1.000000</td>\n",
       "      <td>-0.122817</td>\n",
       "    </tr>\n",
       "    <tr>\n",
       "      <th>renovated_cat</th>\n",
       "      <td>0.103149</td>\n",
       "      <td>0.032681</td>\n",
       "      <td>0.058176</td>\n",
       "      <td>0.046924</td>\n",
       "      <td>-0.014390</td>\n",
       "      <td>0.002760</td>\n",
       "      <td>-0.122817</td>\n",
       "      <td>1.000000</td>\n",
       "    </tr>\n",
       "  </tbody>\n",
       "</table>\n",
       "</div>"
      ],
      "text/plain": [
       "                  price  bedrooms  bathrooms  sqft_living  sqft_lot    floors  \\\n",
       "price          1.000000  0.308063   0.525053     0.701587  0.090338  0.257052   \n",
       "bedrooms       0.308063  1.000000   0.514368     0.577934  0.032735  0.177391   \n",
       "bathrooms      0.525053  0.514368   1.000000     0.755277  0.088921  0.502285   \n",
       "sqft_living    0.701587  0.577934   0.755277     1.000000  0.173768  0.353529   \n",
       "sqft_lot       0.090338  0.032735   0.088921     0.173768  1.000000 -0.005025   \n",
       "floors         0.257052  0.177391   0.502285     0.353529 -0.005025  1.000000   \n",
       "yr_built       0.054273  0.155462   0.507565     0.318217  0.052646  0.489410   \n",
       "renovated_cat  0.103149  0.032681   0.058176     0.046924 -0.014390  0.002760   \n",
       "\n",
       "               yr_built  renovated_cat  \n",
       "price          0.054273       0.103149  \n",
       "bedrooms       0.155462       0.032681  \n",
       "bathrooms      0.507565       0.058176  \n",
       "sqft_living    0.318217       0.046924  \n",
       "sqft_lot       0.052646      -0.014390  \n",
       "floors         0.489410       0.002760  \n",
       "yr_built       1.000000      -0.122817  \n",
       "renovated_cat -0.122817       1.000000  "
      ]
     },
     "execution_count": 64,
     "metadata": {},
     "output_type": "execute_result"
    }
   ],
   "source": [
    "#columns of predictor variables.\n",
    "columns = ['price','bedrooms', 'bathrooms', 'sqft_living', 'sqft_lot', 'floors',\n",
    "           'yr_built', 'renovated_cat']\n",
    "\n",
    "predictors = preprocessed[columns]\n",
    "\n",
    "#producing correlations b/w predictor variables\n",
    "corr = predictors.corr()\n",
    "corr"
   ]
  },
  {
   "cell_type": "code",
   "execution_count": 65,
   "metadata": {},
   "outputs": [
    {
     "data": {
      "image/png": "[encoded data removed]",
      "text/plain": [
       "<Figure size 432x288 with 2 Axes>"
      ]
     },
     "metadata": {
      "needs_background": "light"
     },
     "output_type": "display_data"
    }
   ],
   "source": [
    "#sns heatmap - produces better visualization than above table\n",
    "sns.heatmap(corr, center=0, annot=True);"
   ]
  },
  {
   "cell_type": "markdown",
   "metadata": {},
   "source": [
    "## Data Modeling and Evaluation"
   ]
  },
  {
   "cell_type": "markdown",
   "metadata": {},
   "source": [
    "### Splitting Data into Training and Test Data"
   ]
  },
  {
   "cell_type": "code",
   "execution_count": 66,
   "metadata": {},
   "outputs": [],
   "source": [
    "X = preprocessed.drop('price', axis=1)\n",
    "y = preprocessed['price']"
   ]
  },
  {
   "cell_type": "code",
   "execution_count": 67,
   "metadata": {},
   "outputs": [],
   "source": [
    "#splitting into train-test variables utilizing standared 75-25 split\n",
    "X_train, X_test, y_train, y_test = train_test_split(X, y, random_state=42)"
   ]
  },
  {
   "cell_type": "code",
   "execution_count": 68,
   "metadata": {},
   "outputs": [
    {
     "name": "stdout",
     "output_type": "stream",
     "text": [
      "16150 5384\n"
     ]
    }
   ],
   "source": [
    "print(len(X_train), len(X_test))"
   ]
  },
  {
   "cell_type": "markdown",
   "metadata": {},
   "source": [
    "### Baseline Model"
   ]
  },
  {
   "cell_type": "code",
   "execution_count": 69,
   "metadata": {},
   "outputs": [
    {
     "data": {
      "text/html": [
       "<table class=\"simpletable\">\n",
       "<caption>OLS Regression Results</caption>\n",
       "<tr>\n",
       "  <th>Dep. Variable:</th>          <td>price</td>      <th>  R-squared:         </th>  <td>   0.668</td>  \n",
       "</tr>\n",
       "<tr>\n",
       "  <th>Model:</th>                   <td>OLS</td>       <th>  Adj. R-squared:    </th>  <td>   0.667</td>  \n",
       "</tr>\n",
       "<tr>\n",
       "  <th>Method:</th>             <td>Least Squares</td>  <th>  F-statistic:       </th>  <td>   1297.</td>  \n",
       "</tr>\n",
       "<tr>\n",
       "  <th>Date:</th>             <td>Tue, 01 Mar 2022</td> <th>  Prob (F-statistic):</th>   <td>  0.00</td>   \n",
       "</tr>\n",
       "<tr>\n",
       "  <th>Time:</th>                 <td>19:45:48</td>     <th>  Log-Likelihood:    </th> <td>-2.2075e+05</td>\n",
       "</tr>\n",
       "<tr>\n",
       "  <th>No. Observations:</th>      <td> 16150</td>      <th>  AIC:               </th>  <td>4.416e+05</td> \n",
       "</tr>\n",
       "<tr>\n",
       "  <th>Df Residuals:</th>          <td> 16124</td>      <th>  BIC:               </th>  <td>4.418e+05</td> \n",
       "</tr>\n",
       "<tr>\n",
       "  <th>Df Model:</th>              <td>    25</td>      <th>                     </th>      <td> </td>     \n",
       "</tr>\n",
       "<tr>\n",
       "  <th>Covariance Type:</th>      <td>nonrobust</td>    <th>                     </th>      <td> </td>     \n",
       "</tr>\n",
       "</table>\n",
       "<table class=\"simpletable\">\n",
       "<tr>\n",
       "           <td></td>              <th>coef</th>     <th>std err</th>      <th>t</th>      <th>P>|t|</th>  <th>[0.025</th>    <th>0.975]</th>  \n",
       "</tr>\n",
       "<tr>\n",
       "  <th>const</th>               <td> 1.253e+07</td> <td> 3.43e+06</td> <td>    3.656</td> <td> 0.000</td> <td> 5.81e+06</td> <td> 1.93e+07</td>\n",
       "</tr>\n",
       "<tr>\n",
       "  <th>sqft_living</th>         <td>  136.2401</td> <td>    3.847</td> <td>   35.412</td> <td> 0.000</td> <td>  128.699</td> <td>  143.781</td>\n",
       "</tr>\n",
       "<tr>\n",
       "  <th>yr_built</th>            <td>-3205.2128</td> <td>   82.360</td> <td>  -38.917</td> <td> 0.000</td> <td>-3366.647</td> <td>-3043.779</td>\n",
       "</tr>\n",
       "<tr>\n",
       "  <th>sqft_lot</th>            <td>   -0.2950</td> <td>    0.043</td> <td>   -6.833</td> <td> 0.000</td> <td>   -0.380</td> <td>   -0.210</td>\n",
       "</tr>\n",
       "<tr>\n",
       "  <th>bedrooms</th>            <td> -2.98e+04</td> <td> 2436.025</td> <td>  -12.232</td> <td> 0.000</td> <td>-3.46e+04</td> <td> -2.5e+04</td>\n",
       "</tr>\n",
       "<tr>\n",
       "  <th>bathrooms</th>           <td> 4.909e+04</td> <td> 3906.492</td> <td>   12.567</td> <td> 0.000</td> <td> 4.14e+04</td> <td> 5.68e+04</td>\n",
       "</tr>\n",
       "<tr>\n",
       "  <th>zipcode</th>             <td>  -57.6119</td> <td>   34.372</td> <td>   -1.676</td> <td> 0.094</td> <td> -124.985</td> <td>    9.762</td>\n",
       "</tr>\n",
       "<tr>\n",
       "  <th>floors</th>              <td>  3.58e+04</td> <td> 3922.461</td> <td>    9.127</td> <td> 0.000</td> <td> 2.81e+04</td> <td> 4.35e+04</td>\n",
       "</tr>\n",
       "<tr>\n",
       "  <th>renovated_cat</th>       <td> 1.091e+05</td> <td> 1.33e+04</td> <td>    8.214</td> <td> 0.000</td> <td> 8.31e+04</td> <td> 1.35e+05</td>\n",
       "</tr>\n",
       "<tr>\n",
       "  <th>grade_11 Excellent</th>  <td> 2.879e+05</td> <td> 1.44e+04</td> <td>   19.957</td> <td> 0.000</td> <td>  2.6e+05</td> <td> 3.16e+05</td>\n",
       "</tr>\n",
       "<tr>\n",
       "  <th>grade_12 Luxury</th>     <td> 7.153e+05</td> <td> 2.75e+04</td> <td>   25.984</td> <td> 0.000</td> <td> 6.61e+05</td> <td> 7.69e+05</td>\n",
       "</tr>\n",
       "<tr>\n",
       "  <th>grade_13 Mansion</th>    <td> 1.185e+06</td> <td>  7.5e+04</td> <td>   15.799</td> <td> 0.000</td> <td> 1.04e+06</td> <td> 1.33e+06</td>\n",
       "</tr>\n",
       "<tr>\n",
       "  <th>grade_3 Poor</th>        <td> 2.766e-11</td> <td> 2.62e-11</td> <td>    1.055</td> <td> 0.292</td> <td>-2.37e-11</td> <td> 7.91e-11</td>\n",
       "</tr>\n",
       "<tr>\n",
       "  <th>grade_4 Low</th>         <td>-5.674e+05</td> <td> 4.83e+04</td> <td>  -11.749</td> <td> 0.000</td> <td>-6.62e+05</td> <td>-4.73e+05</td>\n",
       "</tr>\n",
       "<tr>\n",
       "  <th>grade_5 Fair</th>        <td>-5.534e+05</td> <td> 1.91e+04</td> <td>  -29.033</td> <td> 0.000</td> <td>-5.91e+05</td> <td>-5.16e+05</td>\n",
       "</tr>\n",
       "<tr>\n",
       "  <th>grade_6 Low Average</th> <td>-4.878e+05</td> <td> 1.18e+04</td> <td>  -41.480</td> <td> 0.000</td> <td>-5.11e+05</td> <td>-4.65e+05</td>\n",
       "</tr>\n",
       "<tr>\n",
       "  <th>grade_7 Average</th>     <td> -4.07e+05</td> <td> 9630.290</td> <td>  -42.260</td> <td> 0.000</td> <td>-4.26e+05</td> <td>-3.88e+05</td>\n",
       "</tr>\n",
       "<tr>\n",
       "  <th>grade_8 Good</th>        <td>-3.202e+05</td> <td> 8804.108</td> <td>  -36.365</td> <td> 0.000</td> <td>-3.37e+05</td> <td>-3.03e+05</td>\n",
       "</tr>\n",
       "<tr>\n",
       "  <th>grade_9 Better</th>      <td>-1.849e+05</td> <td> 8790.974</td> <td>  -21.031</td> <td> 0.000</td> <td>-2.02e+05</td> <td>-1.68e+05</td>\n",
       "</tr>\n",
       "<tr>\n",
       "  <th>condition_Fair</th>      <td>-2.926e+04</td> <td> 1.96e+04</td> <td>   -1.496</td> <td> 0.135</td> <td>-6.76e+04</td> <td> 9067.534</td>\n",
       "</tr>\n",
       "<tr>\n",
       "  <th>condition_Good</th>      <td> 1.631e+04</td> <td> 4177.375</td> <td>    3.903</td> <td> 0.000</td> <td> 8117.628</td> <td> 2.45e+04</td>\n",
       "</tr>\n",
       "<tr>\n",
       "  <th>condition_Poor</th>      <td>-3.278e+04</td> <td> 4.49e+04</td> <td>   -0.730</td> <td> 0.465</td> <td>-1.21e+05</td> <td> 5.53e+04</td>\n",
       "</tr>\n",
       "<tr>\n",
       "  <th>condition_Very Good</th> <td>  6.02e+04</td> <td> 6658.156</td> <td>    9.041</td> <td> 0.000</td> <td> 4.71e+04</td> <td> 7.32e+04</td>\n",
       "</tr>\n",
       "<tr>\n",
       "  <th>view_EXCELLENT</th>      <td> 4.242e+05</td> <td> 1.55e+04</td> <td>   27.303</td> <td> 0.000</td> <td> 3.94e+05</td> <td> 4.55e+05</td>\n",
       "</tr>\n",
       "<tr>\n",
       "  <th>view_FAIR</th>           <td> 7.328e+04</td> <td> 1.57e+04</td> <td>    4.675</td> <td> 0.000</td> <td> 4.26e+04</td> <td> 1.04e+05</td>\n",
       "</tr>\n",
       "<tr>\n",
       "  <th>view_GOOD</th>           <td> 6.712e+04</td> <td> 1.33e+04</td> <td>    5.054</td> <td> 0.000</td> <td> 4.11e+04</td> <td> 9.31e+04</td>\n",
       "</tr>\n",
       "<tr>\n",
       "  <th>view_NONE</th>           <td>-6.273e+04</td> <td> 8232.549</td> <td>   -7.620</td> <td> 0.000</td> <td>-7.89e+04</td> <td>-4.66e+04</td>\n",
       "</tr>\n",
       "</table>\n",
       "<table class=\"simpletable\">\n",
       "<tr>\n",
       "  <th>Omnibus:</th>       <td>9990.557</td> <th>  Durbin-Watson:     </th>  <td>   2.011</td> \n",
       "</tr>\n",
       "<tr>\n",
       "  <th>Prob(Omnibus):</th>  <td> 0.000</td>  <th>  Jarque-Bera (JB):  </th> <td>478729.366</td>\n",
       "</tr>\n",
       "<tr>\n",
       "  <th>Skew:</th>           <td> 2.322</td>  <th>  Prob(JB):          </th>  <td>    0.00</td> \n",
       "</tr>\n",
       "<tr>\n",
       "  <th>Kurtosis:</th>       <td>29.265</td>  <th>  Cond. No.          </th>  <td>1.00e+16</td> \n",
       "</tr>\n",
       "</table><br/><br/>Notes:<br/>[1] Standard Errors assume that the covariance matrix of the errors is correctly specified.<br/>[2] The smallest eigenvalue is 1.59e-18. This might indicate that there are<br/>strong multicollinearity problems or that the design matrix is singular."
      ],
      "text/plain": [
       "<class 'statsmodels.iolib.summary.Summary'>\n",
       "\"\"\"\n",
       "                            OLS Regression Results                            \n",
       "==============================================================================\n",
       "Dep. Variable:                  price   R-squared:                       0.668\n",
       "Model:                            OLS   Adj. R-squared:                  0.667\n",
       "Method:                 Least Squares   F-statistic:                     1297.\n",
       "Date:                Tue, 01 Mar 2022   Prob (F-statistic):               0.00\n",
       "Time:                        19:45:48   Log-Likelihood:            -2.2075e+05\n",
       "No. Observations:               16150   AIC:                         4.416e+05\n",
       "Df Residuals:                   16124   BIC:                         4.418e+05\n",
       "Df Model:                          25                                         \n",
       "Covariance Type:            nonrobust                                         \n",
       "=======================================================================================\n",
       "                          coef    std err          t      P>|t|      [0.025      0.975]\n",
       "---------------------------------------------------------------------------------------\n",
       "const                1.253e+07   3.43e+06      3.656      0.000    5.81e+06    1.93e+07\n",
       "sqft_living           136.2401      3.847     35.412      0.000     128.699     143.781\n",
       "yr_built            -3205.2128     82.360    -38.917      0.000   -3366.647   -3043.779\n",
       "sqft_lot               -0.2950      0.043     -6.833      0.000      -0.380      -0.210\n",
       "bedrooms             -2.98e+04   2436.025    -12.232      0.000   -3.46e+04    -2.5e+04\n",
       "bathrooms            4.909e+04   3906.492     12.567      0.000    4.14e+04    5.68e+04\n",
       "zipcode               -57.6119     34.372     -1.676      0.094    -124.985       9.762\n",
       "floors                3.58e+04   3922.461      9.127      0.000    2.81e+04    4.35e+04\n",
       "renovated_cat        1.091e+05   1.33e+04      8.214      0.000    8.31e+04    1.35e+05\n",
       "grade_11 Excellent   2.879e+05   1.44e+04     19.957      0.000     2.6e+05    3.16e+05\n",
       "grade_12 Luxury      7.153e+05   2.75e+04     25.984      0.000    6.61e+05    7.69e+05\n",
       "grade_13 Mansion     1.185e+06    7.5e+04     15.799      0.000    1.04e+06    1.33e+06\n",
       "grade_3 Poor         2.766e-11   2.62e-11      1.055      0.292   -2.37e-11    7.91e-11\n",
       "grade_4 Low         -5.674e+05   4.83e+04    -11.749      0.000   -6.62e+05   -4.73e+05\n",
       "grade_5 Fair        -5.534e+05   1.91e+04    -29.033      0.000   -5.91e+05   -5.16e+05\n",
       "grade_6 Low Average -4.878e+05   1.18e+04    -41.480      0.000   -5.11e+05   -4.65e+05\n",
       "grade_7 Average      -4.07e+05   9630.290    -42.260      0.000   -4.26e+05   -3.88e+05\n",
       "grade_8 Good        -3.202e+05   8804.108    -36.365      0.000   -3.37e+05   -3.03e+05\n",
       "grade_9 Better      -1.849e+05   8790.974    -21.031      0.000   -2.02e+05   -1.68e+05\n",
       "condition_Fair      -2.926e+04   1.96e+04     -1.496      0.135   -6.76e+04    9067.534\n",
       "condition_Good       1.631e+04   4177.375      3.903      0.000    8117.628    2.45e+04\n",
       "condition_Poor      -3.278e+04   4.49e+04     -0.730      0.465   -1.21e+05    5.53e+04\n",
       "condition_Very Good   6.02e+04   6658.156      9.041      0.000    4.71e+04    7.32e+04\n",
       "view_EXCELLENT       4.242e+05   1.55e+04     27.303      0.000    3.94e+05    4.55e+05\n",
       "view_FAIR            7.328e+04   1.57e+04      4.675      0.000    4.26e+04    1.04e+05\n",
       "view_GOOD            6.712e+04   1.33e+04      5.054      0.000    4.11e+04    9.31e+04\n",
       "view_NONE           -6.273e+04   8232.549     -7.620      0.000   -7.89e+04   -4.66e+04\n",
       "==============================================================================\n",
       "Omnibus:                     9990.557   Durbin-Watson:                   2.011\n",
       "Prob(Omnibus):                  0.000   Jarque-Bera (JB):           478729.366\n",
       "Skew:                           2.322   Prob(JB):                         0.00\n",
       "Kurtosis:                      29.265   Cond. No.                     1.00e+16\n",
       "==============================================================================\n",
       "\n",
       "Notes:\n",
       "[1] Standard Errors assume that the covariance matrix of the errors is correctly specified.\n",
       "[2] The smallest eigenvalue is 1.59e-18. This might indicate that there are\n",
       "strong multicollinearity problems or that the design matrix is singular.\n",
       "\"\"\""
      ]
     },
     "execution_count": 69,
     "metadata": {},
     "output_type": "execute_result"
    }
   ],
   "source": [
    "#adding a constant to attain y-intecept\n",
    "X = sm.add_constant(X_train)\n",
    "\n",
    "baseline_model = sm.OLS(y_train, X).fit()\n",
    "\n",
    "baseline_model.summary()"
   ]
  },
  {
   "cell_type": "markdown",
   "metadata": {},
   "source": [
    "### Log Scaling & Normalizing Model"
   ]
  },
  {
   "cell_type": "code",
   "execution_count": 71,
   "metadata": {},
   "outputs": [],
   "source": [
    "cont = ['sqft_living', 'yr_built', 'sqft_lot']\n",
    "\n",
    "X_train[cont] = np.log(X_train[cont])\n",
    "\n",
    "#normalization scaling function\n",
    "def normalizer(series):\n",
    "    return (series-series.mean())/series.std()\n",
    "\n",
    "#applying normalization to data\n",
    "X_train[cont] = X_train[cont].apply(normalizer)"
   ]
  },
  {
   "cell_type": "code",
   "execution_count": 75,
   "metadata": {},
   "outputs": [
    {
     "data": {
      "image/png": "[encoded data removed]",
      "text/plain": [
       "<Figure size 432x432 with 4 Axes>"
      ]
     },
     "metadata": {
      "needs_background": "light"
     },
     "output_type": "display_data"
    }
   ],
   "source": [
    "X_train[cont].hist(figsize=[6,6], bins='auto')\n",
    "plt.suptitle(\"Log-scaled and Normalized Data\");"
   ]
  },
  {
   "cell_type": "markdown",
   "metadata": {},
   "source": [
    "Looking at the continuous variables, normalizing and log scaling allows these features to approximate more of a normal distribution and helps manage extreme outliers. \n",
    "\n",
    "The same methods are applied to the predictor variable price. By log scaling and normalizing, sale price approximates a normal distribution and the extreme outliers are accounted for. "
   ]
  },
  {
   "cell_type": "code",
   "execution_count": 82,
   "metadata": {},
   "outputs": [
    {
     "data": {
      "image/png": "[encoded data removed]",
      "text/plain": [
       "<Figure size 288x288 with 1 Axes>"
      ]
     },
     "metadata": {
      "needs_background": "light"
     },
     "output_type": "display_data"
    }
   ],
   "source": [
    "y_train.hist(figsize=[3,3], bins='auto');"
   ]
  },
  {
   "cell_type": "code",
   "execution_count": 98,
   "metadata": {},
   "outputs": [],
   "source": [
    "y_train_log = np.log(y_train)\n",
    "\n",
    "y_train_scaled = normalizer(y_train_log)"
   ]
  },
  {
   "cell_type": "code",
   "execution_count": 99,
   "metadata": {},
   "outputs": [
    {
     "data": {
      "image/png": "[encoded data removed]",
      "text/plain": [
       "<Figure size 288x288 with 1 Axes>"
      ]
     },
     "metadata": {
      "needs_background": "light"
     },
     "output_type": "display_data"
    }
   ],
   "source": [
    "y_train_scaled.hist(figsize=[4,4], bins='auto');"
   ]
  },
  {
   "cell_type": "code",
   "execution_count": 105,
   "metadata": {},
   "outputs": [
    {
     "data": {
      "text/html": [
       "<table class=\"simpletable\">\n",
       "<caption>OLS Regression Results</caption>\n",
       "<tr>\n",
       "  <th>Dep. Variable:</th>          <td>price</td>      <th>  R-squared:         </th> <td>   0.648</td> \n",
       "</tr>\n",
       "<tr>\n",
       "  <th>Model:</th>                   <td>OLS</td>       <th>  Adj. R-squared:    </th> <td>   0.648</td> \n",
       "</tr>\n",
       "<tr>\n",
       "  <th>Method:</th>             <td>Least Squares</td>  <th>  F-statistic:       </th> <td>   1189.</td> \n",
       "</tr>\n",
       "<tr>\n",
       "  <th>Date:</th>             <td>Tue, 01 Mar 2022</td> <th>  Prob (F-statistic):</th>  <td>  0.00</td>  \n",
       "</tr>\n",
       "<tr>\n",
       "  <th>Time:</th>                 <td>20:19:29</td>     <th>  Log-Likelihood:    </th> <td> -14477.</td> \n",
       "</tr>\n",
       "<tr>\n",
       "  <th>No. Observations:</th>      <td> 16150</td>      <th>  AIC:               </th> <td>2.901e+04</td>\n",
       "</tr>\n",
       "<tr>\n",
       "  <th>Df Residuals:</th>          <td> 16124</td>      <th>  BIC:               </th> <td>2.921e+04</td>\n",
       "</tr>\n",
       "<tr>\n",
       "  <th>Df Model:</th>              <td>    25</td>      <th>                     </th>     <td> </td>    \n",
       "</tr>\n",
       "<tr>\n",
       "  <th>Covariance Type:</th>      <td>nonrobust</td>    <th>                     </th>     <td> </td>    \n",
       "</tr>\n",
       "</table>\n",
       "<table class=\"simpletable\">\n",
       "<tr>\n",
       "           <td></td>              <th>coef</th>     <th>std err</th>      <th>t</th>      <th>P>|t|</th>  <th>[0.025</th>    <th>0.975]</th>  \n",
       "</tr>\n",
       "<tr>\n",
       "  <th>const</th>               <td>   -3.7405</td> <td>    9.842</td> <td>   -0.380</td> <td> 0.704</td> <td>  -23.032</td> <td>   15.551</td>\n",
       "</tr>\n",
       "<tr>\n",
       "  <th>sqft_living</th>         <td>    0.3404</td> <td>    0.010</td> <td>   33.758</td> <td> 0.000</td> <td>    0.321</td> <td>    0.360</td>\n",
       "</tr>\n",
       "<tr>\n",
       "  <th>yr_built</th>            <td>   -0.3178</td> <td>    0.007</td> <td>  -46.492</td> <td> 0.000</td> <td>   -0.331</td> <td>   -0.304</td>\n",
       "</tr>\n",
       "<tr>\n",
       "  <th>sqft_lot</th>            <td>   -0.0846</td> <td>    0.006</td> <td>  -14.268</td> <td> 0.000</td> <td>   -0.096</td> <td>   -0.073</td>\n",
       "</tr>\n",
       "<tr>\n",
       "  <th>bedrooms</th>            <td>   -0.0741</td> <td>    0.007</td> <td>  -10.508</td> <td> 0.000</td> <td>   -0.088</td> <td>   -0.060</td>\n",
       "</tr>\n",
       "<tr>\n",
       "  <th>bathrooms</th>           <td>    0.1485</td> <td>    0.011</td> <td>   13.410</td> <td> 0.000</td> <td>    0.127</td> <td>    0.170</td>\n",
       "</tr>\n",
       "<tr>\n",
       "  <th>zipcode</th>             <td> 4.837e-05</td> <td>    0.000</td> <td>    0.482</td> <td> 0.630</td> <td>   -0.000</td> <td>    0.000</td>\n",
       "</tr>\n",
       "<tr>\n",
       "  <th>floors</th>              <td>    0.0791</td> <td>    0.012</td> <td>    6.647</td> <td> 0.000</td> <td>    0.056</td> <td>    0.102</td>\n",
       "</tr>\n",
       "<tr>\n",
       "  <th>renovated_cat</th>       <td>    0.1228</td> <td>    0.038</td> <td>    3.257</td> <td> 0.001</td> <td>    0.049</td> <td>    0.197</td>\n",
       "</tr>\n",
       "<tr>\n",
       "  <th>grade_11 Excellent</th>  <td>    0.4085</td> <td>    0.040</td> <td>   10.088</td> <td> 0.000</td> <td>    0.329</td> <td>    0.488</td>\n",
       "</tr>\n",
       "<tr>\n",
       "  <th>grade_12 Luxury</th>     <td>    0.8141</td> <td>    0.077</td> <td>   10.591</td> <td> 0.000</td> <td>    0.663</td> <td>    0.965</td>\n",
       "</tr>\n",
       "<tr>\n",
       "  <th>grade_13 Mansion</th>    <td>    1.0303</td> <td>    0.212</td> <td>    4.869</td> <td> 0.000</td> <td>    0.616</td> <td>    1.445</td>\n",
       "</tr>\n",
       "<tr>\n",
       "  <th>grade_3 Poor</th>        <td>  1.16e-13</td> <td> 1.55e-14</td> <td>    7.485</td> <td> 0.000</td> <td> 8.56e-14</td> <td> 1.46e-13</td>\n",
       "</tr>\n",
       "<tr>\n",
       "  <th>grade_4 Low</th>         <td>   -2.2644</td> <td>    0.138</td> <td>  -16.402</td> <td> 0.000</td> <td>   -2.535</td> <td>   -1.994</td>\n",
       "</tr>\n",
       "<tr>\n",
       "  <th>grade_5 Fair</th>        <td>   -2.1176</td> <td>    0.055</td> <td>  -38.645</td> <td> 0.000</td> <td>   -2.225</td> <td>   -2.010</td>\n",
       "</tr>\n",
       "<tr>\n",
       "  <th>grade_6 Low Average</th> <td>   -1.7465</td> <td>    0.033</td> <td>  -52.812</td> <td> 0.000</td> <td>   -1.811</td> <td>   -1.682</td>\n",
       "</tr>\n",
       "<tr>\n",
       "  <th>grade_7 Average</th>     <td>   -1.3387</td> <td>    0.026</td> <td>  -51.499</td> <td> 0.000</td> <td>   -1.390</td> <td>   -1.288</td>\n",
       "</tr>\n",
       "<tr>\n",
       "  <th>grade_8 Good</th>        <td>   -0.9163</td> <td>    0.024</td> <td>  -38.471</td> <td> 0.000</td> <td>   -0.963</td> <td>   -0.870</td>\n",
       "</tr>\n",
       "<tr>\n",
       "  <th>grade_9 Better</th>      <td>   -0.4179</td> <td>    0.025</td> <td>  -16.987</td> <td> 0.000</td> <td>   -0.466</td> <td>   -0.370</td>\n",
       "</tr>\n",
       "<tr>\n",
       "  <th>condition_Fair</th>      <td>   -0.3029</td> <td>    0.056</td> <td>   -5.454</td> <td> 0.000</td> <td>   -0.412</td> <td>   -0.194</td>\n",
       "</tr>\n",
       "<tr>\n",
       "  <th>condition_Good</th>      <td>    0.0430</td> <td>    0.012</td> <td>    3.623</td> <td> 0.000</td> <td>    0.020</td> <td>    0.066</td>\n",
       "</tr>\n",
       "<tr>\n",
       "  <th>condition_Poor</th>      <td>   -0.2834</td> <td>    0.128</td> <td>   -2.223</td> <td> 0.026</td> <td>   -0.533</td> <td>   -0.033</td>\n",
       "</tr>\n",
       "<tr>\n",
       "  <th>condition_Very Good</th> <td>    0.1477</td> <td>    0.019</td> <td>    7.815</td> <td> 0.000</td> <td>    0.111</td> <td>    0.185</td>\n",
       "</tr>\n",
       "<tr>\n",
       "  <th>view_EXCELLENT</th>      <td>    0.6039</td> <td>    0.044</td> <td>   13.702</td> <td> 0.000</td> <td>    0.517</td> <td>    0.690</td>\n",
       "</tr>\n",
       "<tr>\n",
       "  <th>view_FAIR</th>           <td>    0.1633</td> <td>    0.044</td> <td>    3.670</td> <td> 0.000</td> <td>    0.076</td> <td>    0.250</td>\n",
       "</tr>\n",
       "<tr>\n",
       "  <th>view_GOOD</th>           <td>    0.0973</td> <td>    0.038</td> <td>    2.583</td> <td> 0.010</td> <td>    0.023</td> <td>    0.171</td>\n",
       "</tr>\n",
       "<tr>\n",
       "  <th>view_NONE</th>           <td>   -0.1982</td> <td>    0.023</td> <td>   -8.491</td> <td> 0.000</td> <td>   -0.244</td> <td>   -0.152</td>\n",
       "</tr>\n",
       "</table>\n",
       "<table class=\"simpletable\">\n",
       "<tr>\n",
       "  <th>Omnibus:</th>       <td>41.151</td> <th>  Durbin-Watson:     </th> <td>   1.991</td>\n",
       "</tr>\n",
       "<tr>\n",
       "  <th>Prob(Omnibus):</th> <td> 0.000</td> <th>  Jarque-Bera (JB):  </th> <td>  50.772</td>\n",
       "</tr>\n",
       "<tr>\n",
       "  <th>Skew:</th>          <td>-0.039</td> <th>  Prob(JB):          </th> <td>9.44e-12</td>\n",
       "</tr>\n",
       "<tr>\n",
       "  <th>Kurtosis:</th>      <td> 3.263</td> <th>  Cond. No.          </th> <td>1.00e+16</td>\n",
       "</tr>\n",
       "</table><br/><br/>Notes:<br/>[1] Standard Errors assume that the covariance matrix of the errors is correctly specified.<br/>[2] The smallest eigenvalue is 1.55e-18. This might indicate that there are<br/>strong multicollinearity problems or that the design matrix is singular."
      ],
      "text/plain": [
       "<class 'statsmodels.iolib.summary.Summary'>\n",
       "\"\"\"\n",
       "                            OLS Regression Results                            \n",
       "==============================================================================\n",
       "Dep. Variable:                  price   R-squared:                       0.648\n",
       "Model:                            OLS   Adj. R-squared:                  0.648\n",
       "Method:                 Least Squares   F-statistic:                     1189.\n",
       "Date:                Tue, 01 Mar 2022   Prob (F-statistic):               0.00\n",
       "Time:                        20:19:29   Log-Likelihood:                -14477.\n",
       "No. Observations:               16150   AIC:                         2.901e+04\n",
       "Df Residuals:                   16124   BIC:                         2.921e+04\n",
       "Df Model:                          25                                         \n",
       "Covariance Type:            nonrobust                                         \n",
       "=======================================================================================\n",
       "                          coef    std err          t      P>|t|      [0.025      0.975]\n",
       "---------------------------------------------------------------------------------------\n",
       "const                  -3.7405      9.842     -0.380      0.704     -23.032      15.551\n",
       "sqft_living             0.3404      0.010     33.758      0.000       0.321       0.360\n",
       "yr_built               -0.3178      0.007    -46.492      0.000      -0.331      -0.304\n",
       "sqft_lot               -0.0846      0.006    -14.268      0.000      -0.096      -0.073\n",
       "bedrooms               -0.0741      0.007    -10.508      0.000      -0.088      -0.060\n",
       "bathrooms               0.1485      0.011     13.410      0.000       0.127       0.170\n",
       "zipcode              4.837e-05      0.000      0.482      0.630      -0.000       0.000\n",
       "floors                  0.0791      0.012      6.647      0.000       0.056       0.102\n",
       "renovated_cat           0.1228      0.038      3.257      0.001       0.049       0.197\n",
       "grade_11 Excellent      0.4085      0.040     10.088      0.000       0.329       0.488\n",
       "grade_12 Luxury         0.8141      0.077     10.591      0.000       0.663       0.965\n",
       "grade_13 Mansion        1.0303      0.212      4.869      0.000       0.616       1.445\n",
       "grade_3 Poor          1.16e-13   1.55e-14      7.485      0.000    8.56e-14    1.46e-13\n",
       "grade_4 Low            -2.2644      0.138    -16.402      0.000      -2.535      -1.994\n",
       "grade_5 Fair           -2.1176      0.055    -38.645      0.000      -2.225      -2.010\n",
       "grade_6 Low Average    -1.7465      0.033    -52.812      0.000      -1.811      -1.682\n",
       "grade_7 Average        -1.3387      0.026    -51.499      0.000      -1.390      -1.288\n",
       "grade_8 Good           -0.9163      0.024    -38.471      0.000      -0.963      -0.870\n",
       "grade_9 Better         -0.4179      0.025    -16.987      0.000      -0.466      -0.370\n",
       "condition_Fair         -0.3029      0.056     -5.454      0.000      -0.412      -0.194\n",
       "condition_Good          0.0430      0.012      3.623      0.000       0.020       0.066\n",
       "condition_Poor         -0.2834      0.128     -2.223      0.026      -0.533      -0.033\n",
       "condition_Very Good     0.1477      0.019      7.815      0.000       0.111       0.185\n",
       "view_EXCELLENT          0.6039      0.044     13.702      0.000       0.517       0.690\n",
       "view_FAIR               0.1633      0.044      3.670      0.000       0.076       0.250\n",
       "view_GOOD               0.0973      0.038      2.583      0.010       0.023       0.171\n",
       "view_NONE              -0.1982      0.023     -8.491      0.000      -0.244      -0.152\n",
       "==============================================================================\n",
       "Omnibus:                       41.151   Durbin-Watson:                   1.991\n",
       "Prob(Omnibus):                  0.000   Jarque-Bera (JB):               50.772\n",
       "Skew:                          -0.039   Prob(JB):                     9.44e-12\n",
       "Kurtosis:                       3.263   Cond. No.                     1.00e+16\n",
       "==============================================================================\n",
       "\n",
       "Notes:\n",
       "[1] Standard Errors assume that the covariance matrix of the errors is correctly specified.\n",
       "[2] The smallest eigenvalue is 1.55e-18. This might indicate that there are\n",
       "strong multicollinearity problems or that the design matrix is singular.\n",
       "\"\"\""
      ]
     },
     "execution_count": 105,
     "metadata": {},
     "output_type": "execute_result"
    }
   ],
   "source": [
    "X_train_log = sm.add_constant(X_train)\n",
    "\n",
    "scaled_model = sm.OLS(y_train_scaled, X_train_log).fit()\n",
    "\n",
    "scaled_model.summary()"
   ]
  },
  {
   "cell_type": "markdown",
   "metadata": {},
   "source": [
    "**Model Performance**\n",
    "\n",
    "Interestingly, this model has a lower R-squared score than the baseline model by about .0019 (1.9%). However, since this model has continuous variables that better approximate normality, so it will be used for further model iterations.  "
   ]
  },
  {
   "cell_type": "code",
   "execution_count": 106,
   "metadata": {},
   "outputs": [
    {
     "name": "stdout",
     "output_type": "stream",
     "text": [
      "27 22\n"
     ]
    },
    {
     "data": {
      "text/html": [
       "<div>\n",
       "<style scoped>\n",
       "    .dataframe tbody tr th:only-of-type {\n",
       "        vertical-align: middle;\n",
       "    }\n",
       "\n",
       "    .dataframe tbody tr th {\n",
       "        vertical-align: top;\n",
       "    }\n",
       "\n",
       "    .dataframe thead th {\n",
       "        text-align: right;\n",
       "    }\n",
       "</style>\n",
       "<table border=\"1\" class=\"dataframe\">\n",
       "  <thead>\n",
       "    <tr style=\"text-align: right;\">\n",
       "      <th></th>\n",
       "      <th>coef</th>\n",
       "      <th>std err</th>\n",
       "      <th>t</th>\n",
       "      <th>P&gt;|t|</th>\n",
       "      <th>[0.025</th>\n",
       "      <th>0.975]</th>\n",
       "    </tr>\n",
       "    <tr>\n",
       "      <th></th>\n",
       "      <th></th>\n",
       "      <th></th>\n",
       "      <th></th>\n",
       "      <th></th>\n",
       "      <th></th>\n",
       "      <th></th>\n",
       "    </tr>\n",
       "  </thead>\n",
       "  <tbody>\n",
       "    <tr>\n",
       "      <th>const</th>\n",
       "      <td>-3.7405</td>\n",
       "      <td>9.842</td>\n",
       "      <td>-0.380</td>\n",
       "      <td>0.704</td>\n",
       "      <td>-23.032</td>\n",
       "      <td>15.551</td>\n",
       "    </tr>\n",
       "    <tr>\n",
       "      <th>sqft_living</th>\n",
       "      <td>0.3404</td>\n",
       "      <td>0.010</td>\n",
       "      <td>33.758</td>\n",
       "      <td>0.000</td>\n",
       "      <td>0.321</td>\n",
       "      <td>0.360</td>\n",
       "    </tr>\n",
       "    <tr>\n",
       "      <th>yr_built</th>\n",
       "      <td>-0.3178</td>\n",
       "      <td>0.007</td>\n",
       "      <td>-46.492</td>\n",
       "      <td>0.000</td>\n",
       "      <td>-0.331</td>\n",
       "      <td>-0.304</td>\n",
       "    </tr>\n",
       "    <tr>\n",
       "      <th>sqft_lot</th>\n",
       "      <td>-0.0846</td>\n",
       "      <td>0.006</td>\n",
       "      <td>-14.268</td>\n",
       "      <td>0.000</td>\n",
       "      <td>-0.096</td>\n",
       "      <td>-0.073</td>\n",
       "    </tr>\n",
       "    <tr>\n",
       "      <th>bedrooms</th>\n",
       "      <td>-0.0741</td>\n",
       "      <td>0.007</td>\n",
       "      <td>-10.508</td>\n",
       "      <td>0.000</td>\n",
       "      <td>-0.088</td>\n",
       "      <td>-0.060</td>\n",
       "    </tr>\n",
       "  </tbody>\n",
       "</table>\n",
       "</div>"
      ],
      "text/plain": [
       "0                  coef    std err          t  P>|t|     [0.025     0.975]\n",
       "                                                                          \n",
       "const           -3.7405      9.842     -0.380  0.704    -23.032     15.551\n",
       "sqft_living      0.3404      0.010     33.758  0.000      0.321      0.360\n",
       "yr_built        -0.3178      0.007    -46.492  0.000     -0.331     -0.304\n",
       "sqft_lot        -0.0846      0.006    -14.268  0.000     -0.096     -0.073\n",
       "bedrooms        -0.0741      0.007    -10.508  0.000     -0.088     -0.060"
      ]
     },
     "execution_count": 106,
     "metadata": {},
     "output_type": "execute_result"
    }
   ],
   "source": [
    "summary = scaled_model.summary()\n",
    "p_table = summary.tables[1]\n",
    "p_table = pd.DataFrame(p_table.data)\n",
    "p_table.columns = p_table.loc[0]\n",
    "p_table = p_table.drop(0)\n",
    "p_table = p_table.set_index(p_table.columns[0])\n",
    "p_table['P>|t|'] = p_table['P>|t|'].astype(float)\n",
    "x_cols = list(p_table[p_table['P>|t|'] < .001].index)\n",
    "\n",
    "print(len(p_table), len(x_cols))\n",
    "p_table.head()"
   ]
  },
  {
   "cell_type": "code",
   "execution_count": 36,
   "metadata": {},
   "outputs": [
    {
     "data": {
      "text/plain": [
       "LinearRegression()"
      ]
     },
     "execution_count": 36,
     "metadata": {},
     "output_type": "execute_result"
    }
   ],
   "source": [
    "#using scikit learn\n",
    "linreg = LinearRegression()\n",
    "linreg.fit(X_train, y_train)"
   ]
  },
  {
   "cell_type": "code",
   "execution_count": 37,
   "metadata": {},
   "outputs": [],
   "source": [
    "# y_hat_train = linreg.predict(X_train)\n",
    "# y_hat_test = linreg.predict(X_test)\n",
    "# train_residuals = y_hat_train - y_train\n",
    "# test_residuals = y_hat_test - y_test"
   ]
  },
  {
   "cell_type": "code",
   "execution_count": 38,
   "metadata": {},
   "outputs": [
    {
     "data": {
      "text/plain": [
       "array([ 1.36240068e+02, -3.20521280e+03, -2.95042492e-01, -2.97982815e+04,\n",
       "        4.90941329e+04, -5.76118591e+01,  3.58015758e+04,  1.09135287e+05,\n",
       "        2.87869359e+05,  7.15278060e+05,  1.18502511e+06,  9.60426405e-09,\n",
       "       -5.67419909e+05, -5.53425220e+05, -4.87765051e+05, -4.06978642e+05,\n",
       "       -3.20160094e+05, -1.84884734e+05, -2.92613641e+04,  1.63057480e+04,\n",
       "       -3.27821172e+04,  6.01966467e+04,  4.24239501e+05,  7.32756371e+04,\n",
       "        6.71181399e+04, -6.27339554e+04])"
      ]
     },
     "execution_count": 38,
     "metadata": {},
     "output_type": "execute_result"
    }
   ],
   "source": [
    "linreg.coef_"
   ]
  },
  {
   "cell_type": "code",
   "execution_count": 39,
   "metadata": {},
   "outputs": [
    {
     "data": {
      "text/plain": [
       "12533492.968023628"
      ]
     },
     "execution_count": 39,
     "metadata": {},
     "output_type": "execute_result"
    }
   ],
   "source": [
    "linreg.intercept_"
   ]
  },
  {
   "cell_type": "markdown",
   "metadata": {},
   "source": [
    "### Feature Selection"
   ]
  },
  {
   "cell_type": "code",
   "execution_count": 40,
   "metadata": {},
   "outputs": [],
   "source": [
    "lingreg = LinearRegression()"
   ]
  },
  {
   "cell_type": "code",
   "execution_count": 41,
   "metadata": {},
   "outputs": [],
   "source": [
    "selector = RFE(linreg, n_features_to_select=15)\n",
    "selector = selector.fit(X_train, y_train)"
   ]
  },
  {
   "cell_type": "code",
   "execution_count": 42,
   "metadata": {},
   "outputs": [
    {
     "data": {
      "text/plain": [
       "array([False, False, False, False, False, False, False,  True,  True,\n",
       "        True,  True, False,  True,  True,  True,  True,  True,  True,\n",
       "       False, False, False,  True,  True,  True,  True,  True])"
      ]
     },
     "execution_count": 42,
     "metadata": {},
     "output_type": "execute_result"
    }
   ],
   "source": [
    "selector.support_"
   ]
  },
  {
   "cell_type": "code",
   "execution_count": 43,
   "metadata": {},
   "outputs": [
    {
     "data": {
      "text/plain": [
       "array([ 9,  8, 11,  5,  2, 10,  7,  1,  1,  1,  1, 12,  1,  1,  1,  1,  1,\n",
       "        1,  6,  3,  4,  1,  1,  1,  1,  1])"
      ]
     },
     "execution_count": 43,
     "metadata": {},
     "output_type": "execute_result"
    }
   ],
   "source": [
    "selector.ranking_"
   ]
  },
  {
   "cell_type": "code",
   "execution_count": 44,
   "metadata": {},
   "outputs": [],
   "source": [
    "estimators = selector.estimator_"
   ]
  },
  {
   "cell_type": "code",
   "execution_count": 45,
   "metadata": {},
   "outputs": [
    {
     "name": "stdout",
     "output_type": "stream",
     "text": [
      "[ 233341.11758029  414771.4263391   987480.42968563 1685334.71492896\n",
      " -812711.98315036 -788175.29120103 -715494.30273183 -612541.28499224\n",
      " -485409.30871373 -275988.70302024  134935.91309979  467778.86580324\n",
      "   74353.03155824   86680.1530818  -130521.10136196] \n",
      " 1121663.3227982111\n"
     ]
    }
   ],
   "source": [
    "print(estimators.coef_, '\\n', estimators.intercept_)"
   ]
  },
  {
   "cell_type": "code",
   "execution_count": 46,
   "metadata": {},
   "outputs": [],
   "source": [
    "selected_columns = X_train.columns[selector.support_]"
   ]
  },
  {
   "cell_type": "code",
   "execution_count": 47,
   "metadata": {},
   "outputs": [
    {
     "data": {
      "text/plain": [
       "LinearRegression()"
      ]
     },
     "execution_count": 47,
     "metadata": {},
     "output_type": "execute_result"
    }
   ],
   "source": [
    "linreg.fit(X_train[selected_columns], y_train)"
   ]
  },
  {
   "cell_type": "code",
   "execution_count": 48,
   "metadata": {},
   "outputs": [
    {
     "data": {
      "text/plain": [
       "Index(['renovated_cat', 'grade_11 Excellent', 'grade_12 Luxury',\n",
       "       'grade_13 Mansion', 'grade_4 Low', 'grade_5 Fair',\n",
       "       'grade_6 Low Average', 'grade_7 Average', 'grade_8 Good',\n",
       "       'grade_9 Better', 'condition_Very Good', 'view_EXCELLENT', 'view_FAIR',\n",
       "       'view_GOOD', 'view_NONE'],\n",
       "      dtype='object')"
      ]
     },
     "execution_count": 48,
     "metadata": {},
     "output_type": "execute_result"
    }
   ],
   "source": [
    "selected_columns"
   ]
  },
  {
   "cell_type": "code",
   "execution_count": null,
   "metadata": {},
   "outputs": [],
   "source": []
  }
 ],
 "metadata": {
  "kernelspec": {
   "display_name": "Python (learn-env)",
   "language": "python",
   "name": "learn-env"
  },
  "language_info": {
   "codemirror_mode": {
    "name": "ipython",
    "version": 3
   },
   "file_extension": ".py",
   "mimetype": "text/x-python",
   "name": "python",
   "nbconvert_exporter": "python",
   "pygments_lexer": "ipython3",
   "version": "3.8.5"
  },
  "toc": {
   "base_numbering": 1,
   "nav_menu": {},
   "number_sections": true,
   "sideBar": true,
   "skip_h1_title": false,
   "title_cell": "Table of Contents",
   "title_sidebar": "Contents",
   "toc_cell": false,
   "toc_position": {},
   "toc_section_display": true,
   "toc_window_display": false
  }
 },
 "nbformat": 4,
 "nbformat_minor": 4
}
